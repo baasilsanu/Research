{
 "cells": [
  {
   "cell_type": "code",
   "execution_count": 12,
   "metadata": {},
   "outputs": [],
   "source": [
    "import pandas as pd\n",
    "from sqlalchemy import create_engine\n",
    "from mpl_toolkits.mplot3d import axes3d\n",
    "import matplotlib.pyplot as plt\n",
    "import numpy as np"
   ]
  },
  {
   "cell_type": "code",
   "execution_count": 13,
   "metadata": {},
   "outputs": [],
   "source": [
    "#db params\n",
    "\n",
    "db_username_0 = 'postgres'\n",
    "db_password_0 = 'Simulation2024'\n",
    "db_host_0 = 'localhost'\n",
    "db_port_0 = '5432'\n",
    "db_name_0 = 'simulationdatainit'\n",
    "table_name_0 = 'simulationsagg4'"
   ]
  },
  {
   "cell_type": "code",
   "execution_count": 14,
   "metadata": {},
   "outputs": [],
   "source": [
    "#Creating connection and extracting data\n",
    "\n",
    "connection_string = f\"postgresql://{db_username_0}:{db_password_0}@{db_host_0}:{db_port_0}/{db_name_0}\"\n",
    "engine = create_engine(connection_string)\n",
    "query = f\"SELECT * FROM {table_name_0}\"\n",
    "df_0 = pd.read_sql(query, engine)"
   ]
  },
  {
   "cell_type": "code",
   "execution_count": 15,
   "metadata": {},
   "outputs": [
    {
     "data": {
      "text/html": [
       "<div>\n",
       "<style scoped>\n",
       "    .dataframe tbody tr th:only-of-type {\n",
       "        vertical-align: middle;\n",
       "    }\n",
       "\n",
       "    .dataframe tbody tr th {\n",
       "        vertical-align: top;\n",
       "    }\n",
       "\n",
       "    .dataframe thead th {\n",
       "        text-align: right;\n",
       "    }\n",
       "</style>\n",
       "<table border=\"1\" class=\"dataframe\">\n",
       "  <thead>\n",
       "    <tr style=\"text-align: right;\">\n",
       "      <th></th>\n",
       "      <th>individual_run_id</th>\n",
       "      <th>epsilon</th>\n",
       "      <th>n_zero_square</th>\n",
       "      <th>reversal_count</th>\n",
       "      <th>average_reversal_time</th>\n",
       "      <th>reversal_times</th>\n",
       "      <th>reversal_durations</th>\n",
       "      <th>positive_values</th>\n",
       "      <th>negative_values</th>\n",
       "    </tr>\n",
       "  </thead>\n",
       "  <tbody>\n",
       "    <tr>\n",
       "      <th>0</th>\n",
       "      <td>1</td>\n",
       "      <td>0.152642</td>\n",
       "      <td>596.36</td>\n",
       "      <td>18</td>\n",
       "      <td>111.118684</td>\n",
       "      <td>[22.708000000000002, 176.794, 188.654, 228.528...</td>\n",
       "      <td>[22.708000000000002, 154.086, 11.8599999999999...</td>\n",
       "      <td>809812</td>\n",
       "      <td>1190188</td>\n",
       "    </tr>\n",
       "    <tr>\n",
       "      <th>1</th>\n",
       "      <td>2</td>\n",
       "      <td>0.152642</td>\n",
       "      <td>596.36</td>\n",
       "      <td>11</td>\n",
       "      <td>173.582333</td>\n",
       "      <td>[104.665, 273.377, 323.64, 627.923, 826.485, 9...</td>\n",
       "      <td>[104.665, 168.712, 50.26299999999998, 304.283,...</td>\n",
       "      <td>956619</td>\n",
       "      <td>1043381</td>\n",
       "    </tr>\n",
       "    <tr>\n",
       "      <th>2</th>\n",
       "      <td>3</td>\n",
       "      <td>0.152642</td>\n",
       "      <td>596.36</td>\n",
       "      <td>16</td>\n",
       "      <td>122.044941</td>\n",
       "      <td>[11.997, 105.0, 236.756, 412.651, 816.535, 876...</td>\n",
       "      <td>[11.997, 93.003, 131.756, 175.895, 403.8839999...</td>\n",
       "      <td>1197437</td>\n",
       "      <td>802563</td>\n",
       "    </tr>\n",
       "    <tr>\n",
       "      <th>3</th>\n",
       "      <td>4</td>\n",
       "      <td>0.152642</td>\n",
       "      <td>596.36</td>\n",
       "      <td>15</td>\n",
       "      <td>127.021812</td>\n",
       "      <td>[178.076, 273.814, 371.882, 379.104, 672.871, ...</td>\n",
       "      <td>[178.076, 95.73800000000003, 98.06799999999998...</td>\n",
       "      <td>1285406</td>\n",
       "      <td>714594</td>\n",
       "    </tr>\n",
       "    <tr>\n",
       "      <th>4</th>\n",
       "      <td>5</td>\n",
       "      <td>0.152642</td>\n",
       "      <td>596.36</td>\n",
       "      <td>10</td>\n",
       "      <td>191.182636</td>\n",
       "      <td>[19.189, 280.36400000000003, 376.455, 757.865,...</td>\n",
       "      <td>[19.189, 261.175, 96.09099999999995, 381.41, 3...</td>\n",
       "      <td>831082</td>\n",
       "      <td>1168918</td>\n",
       "    </tr>\n",
       "  </tbody>\n",
       "</table>\n",
       "</div>"
      ],
      "text/plain": [
       "   individual_run_id   epsilon  n_zero_square  reversal_count  \\\n",
       "0                  1  0.152642         596.36              18   \n",
       "1                  2  0.152642         596.36              11   \n",
       "2                  3  0.152642         596.36              16   \n",
       "3                  4  0.152642         596.36              15   \n",
       "4                  5  0.152642         596.36              10   \n",
       "\n",
       "   average_reversal_time                                     reversal_times  \\\n",
       "0             111.118684  [22.708000000000002, 176.794, 188.654, 228.528...   \n",
       "1             173.582333  [104.665, 273.377, 323.64, 627.923, 826.485, 9...   \n",
       "2             122.044941  [11.997, 105.0, 236.756, 412.651, 816.535, 876...   \n",
       "3             127.021812  [178.076, 273.814, 371.882, 379.104, 672.871, ...   \n",
       "4             191.182636  [19.189, 280.36400000000003, 376.455, 757.865,...   \n",
       "\n",
       "                                  reversal_durations  positive_values  \\\n",
       "0  [22.708000000000002, 154.086, 11.8599999999999...           809812   \n",
       "1  [104.665, 168.712, 50.26299999999998, 304.283,...           956619   \n",
       "2  [11.997, 93.003, 131.756, 175.895, 403.8839999...          1197437   \n",
       "3  [178.076, 95.73800000000003, 98.06799999999998...          1285406   \n",
       "4  [19.189, 261.175, 96.09099999999995, 381.41, 3...           831082   \n",
       "\n",
       "   negative_values  \n",
       "0          1190188  \n",
       "1          1043381  \n",
       "2           802563  \n",
       "3           714594  \n",
       "4          1168918  "
      ]
     },
     "execution_count": 15,
     "metadata": {},
     "output_type": "execute_result"
    }
   ],
   "source": [
    "df_0.head()"
   ]
  },
  {
   "cell_type": "code",
   "execution_count": 16,
   "metadata": {},
   "outputs": [
    {
     "data": {
      "text/plain": [
       "7500"
      ]
     },
     "execution_count": 16,
     "metadata": {},
     "output_type": "execute_result"
    }
   ],
   "source": [
    "len(df_0)"
   ]
  },
  {
   "cell_type": "code",
   "execution_count": 17,
   "metadata": {},
   "outputs": [],
   "source": [
    "#Defining common filter functions\n",
    "\n",
    "def any_values_less_than_5(duration_list):\n",
    "    return any(value < 5 for value in duration_list)\n",
    "\n",
    "def sum_values_less_than_5(duration_list):\n",
    "    return sum(value < 5 for value in duration_list)\n",
    "\n",
    "def update_reversal_durations(df, simulation_end):\n",
    "    for index, row in df.iterrows():\n",
    "        full_range = [0] + row['reversal_times'] + [simulation_end]\n",
    "        durations = [round(full_range[i + 1] - full_range[i], 2) for i in range(len(row['reversal_times']) + 1)]\n",
    "        df.at[index, 'reversal_durations'] = durations\n",
    "    return df\n",
    "\n",
    "def calculate_average_reversal_time_excluding_last(reversal_durations):\n",
    "    average_reversal_time = np.mean(reversal_durations[:-1])\n",
    "    return average_reversal_time\n",
    "\n",
    "def calculate_average_reversal_time(reversal_durations):\n",
    "    average_reversal_time = np.mean(reversal_durations)\n",
    "    return average_reversal_time"
   ]
  },
  {
   "cell_type": "code",
   "execution_count": 19,
   "metadata": {},
   "outputs": [
    {
     "data": {
      "text/plain": [
       "5000"
      ]
     },
     "execution_count": 19,
     "metadata": {},
     "output_type": "execute_result"
    }
   ],
   "source": [
    "#Changing df_0 into cleaned_df_0\n",
    "df_0 = df_0[(df_0['epsilon'] != .152642) & (df_0['n_zero_square'] != 596.36)]\n",
    "len(df_0)\n"
   ]
  },
  {
   "cell_type": "code",
   "execution_count": 20,
   "metadata": {},
   "outputs": [
    {
     "data": {
      "text/html": [
       "<div>\n",
       "<style scoped>\n",
       "    .dataframe tbody tr th:only-of-type {\n",
       "        vertical-align: middle;\n",
       "    }\n",
       "\n",
       "    .dataframe tbody tr th {\n",
       "        vertical-align: top;\n",
       "    }\n",
       "\n",
       "    .dataframe thead th {\n",
       "        text-align: right;\n",
       "    }\n",
       "</style>\n",
       "<table border=\"1\" class=\"dataframe\">\n",
       "  <thead>\n",
       "    <tr style=\"text-align: right;\">\n",
       "      <th></th>\n",
       "      <th>individual_run_id</th>\n",
       "      <th>epsilon</th>\n",
       "      <th>n_zero_square</th>\n",
       "      <th>reversal_count</th>\n",
       "      <th>average_reversal_time</th>\n",
       "      <th>reversal_times</th>\n",
       "      <th>reversal_durations</th>\n",
       "      <th>positive_values</th>\n",
       "      <th>negative_values</th>\n",
       "      <th>average_reversal_time_excluding_last</th>\n",
       "      <th>any_less_than_5</th>\n",
       "    </tr>\n",
       "  </thead>\n",
       "  <tbody>\n",
       "    <tr>\n",
       "      <th>1339</th>\n",
       "      <td>4283</td>\n",
       "      <td>0.237142</td>\n",
       "      <td>944.933951</td>\n",
       "      <td>32</td>\n",
       "      <td>60.606667</td>\n",
       "      <td>[255.13100000000003, 353.019, 495.122, 599.699...</td>\n",
       "      <td>[255.13, 97.89, 142.1, 104.58, 39.65, 56.04, 7...</td>\n",
       "      <td>1113063</td>\n",
       "      <td>886937</td>\n",
       "      <td>62.109375</td>\n",
       "      <td>False</td>\n",
       "    </tr>\n",
       "    <tr>\n",
       "      <th>1344</th>\n",
       "      <td>4296</td>\n",
       "      <td>0.237142</td>\n",
       "      <td>944.933951</td>\n",
       "      <td>41</td>\n",
       "      <td>47.619286</td>\n",
       "      <td>[6.356, 31.794000000000004, 53.299, 84.319, 14...</td>\n",
       "      <td>[6.36, 25.44, 21.5, 31.02, 59.8, 25.83, 13.07,...</td>\n",
       "      <td>710034</td>\n",
       "      <td>1289966</td>\n",
       "      <td>47.782683</td>\n",
       "      <td>False</td>\n",
       "    </tr>\n",
       "    <tr>\n",
       "      <th>1345</th>\n",
       "      <td>4298</td>\n",
       "      <td>0.237142</td>\n",
       "      <td>944.933951</td>\n",
       "      <td>22</td>\n",
       "      <td>86.956522</td>\n",
       "      <td>[11.753, 53.936, 266.573, 448.84700000000004, ...</td>\n",
       "      <td>[11.75, 42.18, 212.64, 182.27, 124.11, 145.46,...</td>\n",
       "      <td>1008827</td>\n",
       "      <td>991173</td>\n",
       "      <td>87.875455</td>\n",
       "      <td>False</td>\n",
       "    </tr>\n",
       "    <tr>\n",
       "      <th>2510</th>\n",
       "      <td>2700</td>\n",
       "      <td>0.237142</td>\n",
       "      <td>944.933951</td>\n",
       "      <td>23</td>\n",
       "      <td>83.332917</td>\n",
       "      <td>[157.692, 321.755, 351.306, 361.515, 492.272, ...</td>\n",
       "      <td>[157.69, 164.06, 29.55, 10.21, 130.76, 22.16, ...</td>\n",
       "      <td>998447</td>\n",
       "      <td>1001553</td>\n",
       "      <td>85.507826</td>\n",
       "      <td>False</td>\n",
       "    </tr>\n",
       "    <tr>\n",
       "      <th>2516</th>\n",
       "      <td>2506</td>\n",
       "      <td>0.237142</td>\n",
       "      <td>944.933951</td>\n",
       "      <td>27</td>\n",
       "      <td>71.428571</td>\n",
       "      <td>[11.415, 212.86700000000002, 223.971, 241.323,...</td>\n",
       "      <td>[11.41, 201.45, 11.1, 17.35, 76.52, 41.02, 8.8...</td>\n",
       "      <td>763346</td>\n",
       "      <td>1236654</td>\n",
       "      <td>70.545926</td>\n",
       "      <td>False</td>\n",
       "    </tr>\n",
       "  </tbody>\n",
       "</table>\n",
       "</div>"
      ],
      "text/plain": [
       "      individual_run_id   epsilon  n_zero_square  reversal_count  \\\n",
       "1339               4283  0.237142     944.933951              32   \n",
       "1344               4296  0.237142     944.933951              41   \n",
       "1345               4298  0.237142     944.933951              22   \n",
       "2510               2700  0.237142     944.933951              23   \n",
       "2516               2506  0.237142     944.933951              27   \n",
       "\n",
       "      average_reversal_time  \\\n",
       "1339              60.606667   \n",
       "1344              47.619286   \n",
       "1345              86.956522   \n",
       "2510              83.332917   \n",
       "2516              71.428571   \n",
       "\n",
       "                                         reversal_times  \\\n",
       "1339  [255.13100000000003, 353.019, 495.122, 599.699...   \n",
       "1344  [6.356, 31.794000000000004, 53.299, 84.319, 14...   \n",
       "1345  [11.753, 53.936, 266.573, 448.84700000000004, ...   \n",
       "2510  [157.692, 321.755, 351.306, 361.515, 492.272, ...   \n",
       "2516  [11.415, 212.86700000000002, 223.971, 241.323,...   \n",
       "\n",
       "                                     reversal_durations  positive_values  \\\n",
       "1339  [255.13, 97.89, 142.1, 104.58, 39.65, 56.04, 7...          1113063   \n",
       "1344  [6.36, 25.44, 21.5, 31.02, 59.8, 25.83, 13.07,...           710034   \n",
       "1345  [11.75, 42.18, 212.64, 182.27, 124.11, 145.46,...          1008827   \n",
       "2510  [157.69, 164.06, 29.55, 10.21, 130.76, 22.16, ...           998447   \n",
       "2516  [11.41, 201.45, 11.1, 17.35, 76.52, 41.02, 8.8...           763346   \n",
       "\n",
       "      negative_values  average_reversal_time_excluding_last  any_less_than_5  \n",
       "1339           886937                             62.109375            False  \n",
       "1344          1289966                             47.782683            False  \n",
       "1345           991173                             87.875455            False  \n",
       "2510          1001553                             85.507826            False  \n",
       "2516          1236654                             70.545926            False  "
      ]
     },
     "execution_count": 20,
     "metadata": {},
     "output_type": "execute_result"
    }
   ],
   "source": [
    "\n",
    "df_0 = df_0[(df_0['reversal_count'] > 0)]\n",
    "df_0[((df_0['positive_values'] + df_0['negative_values']) > 2000000)]\n",
    "df_0 = update_reversal_durations(df_0, 2000)\n",
    "df_0['average_reversal_time'] = df_0['reversal_durations'].apply(calculate_average_reversal_time)\n",
    "df_0['average_reversal_time_excluding_last'] = df_0['reversal_durations'].apply(calculate_average_reversal_time_excluding_last)\n",
    "\n",
    "df_0_AnyLessThan5 = df_0['reversal_durations'].apply(any_values_less_than_5)\n",
    "df_0['any_less_than_5'] = df_0_AnyLessThan5\n",
    "df_0[(df_0['any_less_than_5'] == True)].head()\n",
    "df_0_cleaned = df_0[(df_0['any_less_than_5'] == False)]\n",
    "df_0_cleaned.head()"
   ]
  },
  {
   "cell_type": "code",
   "execution_count": 21,
   "metadata": {},
   "outputs": [
    {
     "data": {
      "text/plain": [
       "2234"
      ]
     },
     "execution_count": 21,
     "metadata": {},
     "output_type": "execute_result"
    }
   ],
   "source": [
    "len(df_0_cleaned)"
   ]
  },
  {
   "cell_type": "code",
   "execution_count": 22,
   "metadata": {},
   "outputs": [
    {
     "data": {
      "image/png": "[encoded data removed]",
      "text/plain": [
       "<Figure size 1400x500 with 2 Axes>"
      ]
     },
     "metadata": {},
     "output_type": "display_data"
    }
   ],
   "source": [
    "fig, axs = plt.subplots(1, 2, figsize=(14, 5))\n",
    "\n",
    "axs[0].hist(df_0_cleaned['average_reversal_time'], bins=30, color='blue', alpha=0.7)\n",
    "axs[0].set_title('Average Reversal Time Histogram')\n",
    "axs[0].set_xlabel('Average Reversal Times')\n",
    "axs[0].set_ylabel('Frequency')\n",
    "\n",
    "axs[1].hist(df_0_cleaned['average_reversal_time_excluding_last'], bins=30, color='green', alpha=0.7)\n",
    "axs[1].set_title('Average Reversal Time Excluding Last Histogram')\n",
    "axs[1].set_xlabel('Average Reversal Times Excluding Last')\n",
    "axs[1].set_ylabel('Frequency')\n",
    "\n",
    "plt.tight_layout()\n",
    "plt.show()"
   ]
  },
  {
   "cell_type": "code",
   "execution_count": 23,
   "metadata": {},
   "outputs": [
    {
     "data": {
      "image/png": "[encoded data removed]",
      "text/plain": [
       "<Figure size 640x480 with 1 Axes>"
      ]
     },
     "metadata": {},
     "output_type": "display_data"
    }
   ],
   "source": [
    "bin_edges = np.arange(start=df_0_cleaned['reversal_count'].min() - .5,\n",
    "                      stop= df_0_cleaned['reversal_count'].max() + 1.5)\n",
    "df_0_cleaned['reversal_count'].plot(kind = 'hist', bins = bin_edges, align = 'mid')\n",
    "plt.title('Reversal Count Histogram')\n",
    "plt.xlabel('Reversal Counts')\n",
    "plt.show()"
   ]
  }
 ],
 "metadata": {
  "kernelspec": {
   "display_name": "RK2 and Langevin",
   "language": "python",
   "name": "python3"
  },
  "language_info": {
   "codemirror_mode": {
    "name": "ipython",
    "version": 3
   },
   "file_extension": ".py",
   "mimetype": "text/x-python",
   "name": "python",
   "nbconvert_exporter": "python",
   "pygments_lexer": "ipython3",
   "version": "3.10.7"
  }
 },
 "nbformat": 4,
 "nbformat_minor": 2
}
